{
  "nbformat": 4,
  "nbformat_minor": 0,
  "metadata": {
    "colab": {
      "private_outputs": true,
      "provenance": [],
      "collapsed_sections": [
        "FJNUwmbgGyua",
        "w6K7xa23Elo4",
        "yQaldy8SH6Dl",
        "PH-0ReGfmX4f",
        "mDgbUHAGgjLW",
        "HhfV-JJviCcP",
        "Y3lxredqlCYt",
        "3RnN4peoiCZX",
        "x71ZqKXriCWQ",
        "7hBIi_osiCS2",
        "JlHwYmJAmNHm",
        "35m5QtbWiB9F",
        "PoPl-ycgm1ru",
        "H0kj-8xxnORC",
        "nA9Y7ga8ng1Z",
        "dauF4eBmngu3",
        "0wOQAZs5pc--",
        "K5QZ13OEpz2H",
        "lQ7QKXXCp7Bj",
        "448CDAPjqfQr",
        "KSlN3yHqYklG",
        "t6dVpIINYklI",
        "ijmpgYnKYklI",
        "-JiQyfWJYklI",
        "EM7whBJCYoAo",
        "fge-S5ZAYoAp",
        "85gYPyotYoAp",
        "RoGjAbkUYoAp",
        "4Of9eVA-YrdM",
        "iky9q4vBYrdO",
        "F6T5p64dYrdO",
        "y-Ehk30pYrdP",
        "bamQiAODYuh1",
        "QHF8YVU7Yuh3",
        "GwzvFGzlYuh3",
        "qYpmQ266Yuh3",
        "OH-pJp9IphqM",
        "bbFf2-_FphqN",
        "_ouA3fa0phqN",
        "Seke61FWphqN",
        "PIIx-8_IphqN",
        "t27r6nlMphqO",
        "r2jJGEOYphqO",
        "b0JNsNcRphqO",
        "NC_X3p0fY2L0",
        "UV0SzAkaZNRQ",
        "YPEH6qLeZNRQ",
        "q29F0dvdveiT",
        "EXh0U9oCveiU",
        "22aHeOlLveiV",
        "JcMwzZxoAimU",
        "8G2x9gOozGDZ",
        "gCX9965dhzqZ",
        "gIfDvo9L0UH2"
      ],
      "include_colab_link": true
    },
    "kernelspec": {
      "name": "python3",
      "display_name": "Python 3"
    },
    "language_info": {
      "name": "python"
    }
  },
  "cells": [
    {
      "cell_type": "markdown",
      "metadata": {
        "id": "view-in-github",
        "colab_type": "text"
      },
      "source": [
        "<a href=\"https://colab.research.google.com/github/Prashant7026/Data-Analysis/blob/main/Copy_of_Sample_EDA_Submission_Template.ipynb\" target=\"_parent\"><img src=\"https://colab.research.google.com/assets/colab-badge.svg\" alt=\"Open In Colab\"/></a>"
      ]
    },
    {
      "cell_type": "markdown",
      "source": [
        "# **Project Name**    - EDA on Global Terrorism Dataset\n",
        "\n"
      ],
      "metadata": {
        "id": "vncDsAP0Gaoa"
      }
    },
    {
      "cell_type": "markdown",
      "source": [
        "##### **Project Type**    - EDA\n",
        "##### **Contribution**    - Self\n"
      ],
      "metadata": {
        "id": "beRrZCGUAJYm"
      }
    },
    {
      "cell_type": "markdown",
      "source": [
        "# **Project Summary -**"
      ],
      "metadata": {
        "id": "FJNUwmbgGyua"
      }
    },
    {
      "cell_type": "markdown",
      "source": [
        "This is a capstone project of Analysis of Global Terrorism from 1970 through 2017. This dataset contains the information of terrorist attacks in all countries that have occured during this time period. We follow some steps for analysis of data i.e,\n",
        "\n",
        "\n",
        "1.   Import Libraries.\n",
        "2.   Load Dataset.\n",
        "\n",
        "1.   Removing Unwanted Columns.\n",
        "2.   Handle null values.\n",
        "\n",
        "1.   Do Analysis.\n",
        "2.   Do Visualization.\n",
        "\n",
        "\n",
        "\n",
        "\n",
        "\n",
        "\n",
        "\n"
      ],
      "metadata": {
        "id": "F6v_1wHtG2nS"
      }
    },
    {
      "cell_type": "markdown",
      "source": [
        "# **GitHub Link -**"
      ],
      "metadata": {
        "id": "w6K7xa23Elo4"
      }
    },
    {
      "cell_type": "markdown",
      "source": [
        "https://github.com/Prashant7026/Data-Analysis/blob/main/EDA_Global_Terrorism_Dataset.ipynb"
      ],
      "metadata": {
        "id": "h1o69JH3Eqqn"
      }
    },
    {
      "cell_type": "markdown",
      "source": [
        "# **Problem Statement**\n"
      ],
      "metadata": {
        "id": "yQaldy8SH6Dl"
      }
    },
    {
      "cell_type": "markdown",
      "source": [
        "*   In this project I am going to analyze Global Terrorism Data from 1970 through 2017. This dataset contains information of terrorist attack in all countries during this time period with their latitude and longitude and also number of death people and wound people.\n",
        "*   The objective of this project is explore and analyze the data to discover important factors that govern the terrorist attacks.\n",
        "\n",
        "\n",
        "\n"
      ],
      "metadata": {
        "id": "DpeJGUA3kjGy"
      }
    },
    {
      "cell_type": "markdown",
      "source": [
        "#### **Define Your Business Objective?**"
      ],
      "metadata": {
        "id": "PH-0ReGfmX4f"
      }
    },
    {
      "cell_type": "markdown",
      "source": [
        "With the help of Exploratory Data Analysis(EDA) extract meaningful information of terrorist attack so that to control it."
      ],
      "metadata": {
        "id": "PhDvGCAqmjP1"
      }
    },
    {
      "cell_type": "markdown",
      "source": [
        "# **General Guidelines** : -  "
      ],
      "metadata": {
        "id": "mDgbUHAGgjLW"
      }
    },
    {
      "cell_type": "markdown",
      "source": [
        "1.   Well-structured, formatted, and commented code is required. \n",
        "2.   Exception Handling, Production Grade Code & Deployment Ready Code will be a plus. Those students will be awarded some additional credits. \n",
        "     \n",
        "     The additional credits will have advantages over other students during Star Student selection.\n",
        "       \n",
        "             [ Note: - Deployment Ready Code is defined as, the whole .ipynb notebook should be executable in one go\n",
        "                       without a single error logged. ]\n",
        "\n",
        "3.   Each and every logic should have proper comments.\n",
        "4. You may add as many number of charts you want. Make Sure for each and every chart the following format should be answered.\n",
        "        \n",
        "\n",
        "```\n",
        "# Chart visualization code\n",
        "```\n",
        "            \n",
        "\n",
        "*   Why did you pick the specific chart?\n",
        "*   What is/are the insight(s) found from the chart?\n",
        "* Will the gained insights help creating a positive business impact? \n",
        "Are there any insights that lead to negative growth? Justify with specific reason.\n",
        "\n",
        "5. You have to create at least 20 logical & meaningful charts having important insights.\n",
        "\n",
        "\n",
        "[ Hints : - Do the Vizualization in  a structured way while following \"UBM\" Rule. \n",
        "\n",
        "U - Univariate Analysis,\n",
        "\n",
        "B - Bivariate Analysis (Numerical - Categorical, Numerical - Numerical, Categorical - Categorical)\n",
        "\n",
        "M - Multivariate Analysis\n",
        " ]\n",
        "\n",
        "\n",
        "\n"
      ],
      "metadata": {
        "id": "ZrxVaUj-hHfC"
      }
    },
    {
      "cell_type": "markdown",
      "source": [
        "# ***Let's Begin !***"
      ],
      "metadata": {
        "id": "O_i_v8NEhb9l"
      }
    },
    {
      "cell_type": "markdown",
      "source": [
        "## ***1. Know Your Data***"
      ],
      "metadata": {
        "id": "HhfV-JJviCcP"
      }
    },
    {
      "cell_type": "markdown",
      "source": [
        "### Import Libraries"
      ],
      "metadata": {
        "id": "Y3lxredqlCYt"
      }
    },
    {
      "cell_type": "code",
      "source": [
        "# Import Libraries\n",
        "import numpy as np\n",
        "import pandas as pd\n",
        "import seaborn as sns\n",
        "import matplotlib.pyplot as plt\n",
        "import plotly.express as px"
      ],
      "metadata": {
        "id": "M8Vqi-pPk-HR"
      },
      "execution_count": null,
      "outputs": []
    },
    {
      "cell_type": "markdown",
      "source": [
        "### Dataset Loading"
      ],
      "metadata": {
        "id": "3RnN4peoiCZX"
      }
    },
    {
      "cell_type": "code",
      "source": [
        "from google.colab import drive\n",
        "drive.mount('/content/drive')"
      ],
      "metadata": {
        "id": "cI4o47uXtaDC"
      },
      "execution_count": null,
      "outputs": []
    },
    {
      "cell_type": "code",
      "source": [
        "# Load Dataset\n",
        "df = pd.read_csv('/content/drive/MyDrive/Dataset/Global_Terrorism_Data.csv', encoding='latin-1')"
      ],
      "metadata": {
        "id": "4CkvbW_SlZ_R"
      },
      "execution_count": null,
      "outputs": []
    },
    {
      "cell_type": "markdown",
      "source": [
        "### Dataset First View"
      ],
      "metadata": {
        "id": "x71ZqKXriCWQ"
      }
    },
    {
      "cell_type": "code",
      "source": [
        "# Dataset First Look\n",
        "df.head()"
      ],
      "metadata": {
        "id": "LWNFOSvLl09H"
      },
      "execution_count": null,
      "outputs": []
    },
    {
      "cell_type": "markdown",
      "source": [
        "### Dataset Rows & Columns count"
      ],
      "metadata": {
        "id": "7hBIi_osiCS2"
      }
    },
    {
      "cell_type": "code",
      "source": [
        "# Dataset Rows & Columns count\n",
        "df.shape"
      ],
      "metadata": {
        "id": "Kllu7SJgmLij"
      },
      "execution_count": null,
      "outputs": []
    },
    {
      "cell_type": "markdown",
      "source": [
        "### Dataset Information"
      ],
      "metadata": {
        "id": "JlHwYmJAmNHm"
      }
    },
    {
      "cell_type": "code",
      "source": [
        "# Dataset Info\n",
        "df.info()"
      ],
      "metadata": {
        "id": "e9hRXRi6meOf"
      },
      "execution_count": null,
      "outputs": []
    },
    {
      "cell_type": "markdown",
      "source": [
        "#### Duplicate Values"
      ],
      "metadata": {
        "id": "35m5QtbWiB9F"
      }
    },
    {
      "cell_type": "code",
      "source": [
        "# Dataset Duplicate Value Count\n",
        "len(df)-len(df.drop_duplicates())"
      ],
      "metadata": {
        "id": "1sLdpKYkmox0"
      },
      "execution_count": null,
      "outputs": []
    },
    {
      "cell_type": "markdown",
      "source": [
        "#### Missing Values/Null Values"
      ],
      "metadata": {
        "id": "PoPl-ycgm1ru"
      }
    },
    {
      "cell_type": "code",
      "source": [
        "# Missing Values/Null Values Count\n",
        "df.isnull().sum()"
      ],
      "metadata": {
        "id": "GgHWkxvamxVg"
      },
      "execution_count": null,
      "outputs": []
    },
    {
      "cell_type": "code",
      "source": [
        "# Visualizing the missing values\n",
        "sns.heatmap(df.isnull())"
      ],
      "metadata": {
        "id": "3q5wnI3om9sJ"
      },
      "execution_count": null,
      "outputs": []
    },
    {
      "cell_type": "markdown",
      "source": [
        "### What did you know about your dataset?"
      ],
      "metadata": {
        "id": "H0kj-8xxnORC"
      }
    },
    {
      "cell_type": "markdown",
      "source": [
        "The Global Terrorism Database including information on terrorist attacks around the world from 1970 through 2017. This dataset includes systematic data on domestic as well as international terrorist incidents that have occured during this time period and now includes more than 1,80,000 attacks. This dataset includes all information of terrorist attacks during this time period like as when attack occurs, what's the date, time, month and year of attack with complete address where attack will occur and as well as latitude and longitude is also given in dataset. This dataset also includes the information of terrorist like as which weapon is used by terrorist, which terrorist organization attacks and so on."
      ],
      "metadata": {
        "id": "gfoNAAC-nUe_"
      }
    },
    {
      "cell_type": "markdown",
      "source": [
        "## ***2. Understanding Your Variables***"
      ],
      "metadata": {
        "id": "nA9Y7ga8ng1Z"
      }
    },
    {
      "cell_type": "code",
      "source": [
        "# Dataset Columns\n",
        "df.columns"
      ],
      "metadata": {
        "id": "j7xfkqrt5Ag5"
      },
      "execution_count": null,
      "outputs": []
    },
    {
      "cell_type": "code",
      "source": [
        "# Dataset Describe\n",
        "df.describe()"
      ],
      "metadata": {
        "id": "DnOaZdaE5Q5t"
      },
      "execution_count": null,
      "outputs": []
    },
    {
      "cell_type": "markdown",
      "source": [
        "### Variables Description "
      ],
      "metadata": {
        "id": "PBTbrJXOngz2"
      }
    },
    {
      "cell_type": "markdown",
      "source": [
        "The describe method returns the description of the data in the DataFrame. With the help of describe we can see the count, mean, std deviation, min, max values of the variables. We take the example of iyear variable and we can see that count of iyear is 181691, mean is 2002.638997, std. deviation is 13.259430, min value is 1970, 25% is 1991 means 25% values of this column is less than 1991, 50% is 2009 means 50% values of this column is less than 2009, 75% is 2014 means 75% values of this column is less than 2014 and rest 25% values is greater than 2014, max value is 2017. These are the mathematical description of dataset which we get only using one method i.e., describe()."
      ],
      "metadata": {
        "id": "aJV4KIxSnxay"
      }
    },
    {
      "cell_type": "markdown",
      "source": [
        "### Check Unique Values for each variable."
      ],
      "metadata": {
        "id": "u3PMJOP6ngxN"
      }
    },
    {
      "cell_type": "code",
      "source": [
        "# Check Unique Values for each variable.\n",
        "df.nunique()"
      ],
      "metadata": {
        "id": "zms12Yq5n-jE"
      },
      "execution_count": null,
      "outputs": []
    },
    {
      "cell_type": "markdown",
      "source": [
        "## 3. ***Data Wrangling***"
      ],
      "metadata": {
        "id": "dauF4eBmngu3"
      }
    },
    {
      "cell_type": "markdown",
      "source": [
        "### Data Wrangling Code"
      ],
      "metadata": {
        "id": "bKJF3rekwFvQ"
      }
    },
    {
      "cell_type": "markdown",
      "source": [
        "### What all manipulations have you done and insights you found?"
      ],
      "metadata": {
        "id": "MSa1f5Uengrz"
      }
    },
    {
      "cell_type": "code",
      "source": [
        "# Write your code to make your dataset analysis ready.\n",
        "\n",
        "# Removing unwanted columns\n",
        "df = df[['iyear','imonth','iday','country_txt','provstate','city','region_txt','latitude','longitude','attacktype1_txt','weaptype1_txt','nkill','nwound','targtype1_txt','target1','summary','gname','motive','nperps']]"
      ],
      "metadata": {
        "id": "wk-9a2fpoLcV"
      },
      "execution_count": null,
      "outputs": []
    },
    {
      "cell_type": "code",
      "source": [
        "# Rename the columns\n",
        "df.rename(columns={'iyear': 'year', 'imonth': 'month','iday':'day','country_txt':'country','region_txt':'region','provstate':'state','attacktype1_txt':'attack_type','targtype1_txt':'target_type','target1':'target','nperps':'no_terrorist','weaptype1_txt':'weapon','nkill':'kill','nwound':'wound','gname':'gp_name'}, inplace = True)"
      ],
      "metadata": {
        "id": "_p3MYU38wbRa"
      },
      "execution_count": null,
      "outputs": []
    },
    {
      "cell_type": "code",
      "source": [
        "# This is our final dataset in which we perform analysis but it'll includes null values. So, in next step we filter out data.\n",
        "df.head()"
      ],
      "metadata": {
        "id": "qFqAVmszwf9Y"
      },
      "execution_count": null,
      "outputs": []
    },
    {
      "cell_type": "code",
      "source": [
        "df.shape"
      ],
      "metadata": {
        "id": "v1R2-TDExCRQ"
      },
      "execution_count": null,
      "outputs": []
    },
    {
      "cell_type": "code",
      "source": [
        "# Check null values in each column\n",
        "df.isnull().sum()"
      ],
      "metadata": {
        "id": "kRnxCO4QxHJM"
      },
      "execution_count": null,
      "outputs": []
    },
    {
      "cell_type": "code",
      "source": [
        "# Visualization of null values\n",
        "sns.heatmap(df.isnull())"
      ],
      "metadata": {
        "id": "RQDZc8gxxUO-"
      },
      "execution_count": null,
      "outputs": []
    },
    {
      "cell_type": "code",
      "source": [
        "# Information of dataset\n",
        "df.info()"
      ],
      "metadata": {
        "id": "7mrmad4yzoTE"
      },
      "execution_count": null,
      "outputs": []
    },
    {
      "cell_type": "code",
      "source": [
        "# Playing with null values\n",
        "\n",
        "# State col\n",
        "mode_state = df['state'].mode()\n",
        "df['state'].fillna(mode_state[0], inplace = True)\n",
        "# city col\n",
        "mode_city = df['city'].mode()\n",
        "df['city'].fillna(mode_city[0], inplace = True)\n",
        "# Latitude col\n",
        "median_latitude = df['latitude'].median()\n",
        "df['latitude'].fillna(median_latitude, inplace = True)\n",
        "# Longitude col\n",
        "median_longitude = df['longitude'].median()\n",
        "df['longitude'].fillna(median_longitude, inplace = True)\n",
        "# Kill col\n",
        "median_kill = df['kill'].median()\n",
        "df['kill'].fillna(median_kill, inplace = True)\n",
        "# Wound col\n",
        "median_wound = df['wound'].median()\n",
        "df['wound'].fillna(median_wound, inplace = True)\n",
        "# Target col\n",
        "mode_target = df['target'].mode()\n",
        "df['target'].fillna(mode_target[0], inplace = True)\n",
        "# summary col\n",
        "mode_summary = df['summary'].mode()\n",
        "df['summary'].fillna(mode_summary[0], inplace = True)\n",
        "# motive col\n",
        "mode_motive = df['motive'].mode()\n",
        "df['motive'].fillna(mode_motive[0], inplace = True)\n",
        "# no_terrorist col\n",
        "median_terrorist = df['no_terrorist'].median()\n",
        "df['no_terrorist'].fillna(median_terrorist, inplace = True)"
      ],
      "metadata": {
        "id": "kz2sMxKgxi7M"
      },
      "execution_count": null,
      "outputs": []
    },
    {
      "cell_type": "code",
      "source": [
        "# Now, there is no null values in dataset\n",
        "df.isnull().sum()"
      ],
      "metadata": {
        "id": "pjFZ6OD1yNlt"
      },
      "execution_count": null,
      "outputs": []
    },
    {
      "cell_type": "code",
      "source": [
        "# By the help of visualization we see that there is no null values in the dataset.\n",
        "sns.heatmap(df.isnull())"
      ],
      "metadata": {
        "id": "MBeN07Eey12c"
      },
      "execution_count": null,
      "outputs": []
    },
    {
      "cell_type": "markdown",
      "source": [
        "We done manipulations to make dataset in better format so that we perform analysis because data contains some unwanted columns, null values and so on. So in data wrangling firstly we filter out data by useful columns and we remove the unwanted columns and in next step we check the null values of each columns and then we do either mean, median, mode to fill the null values and delete the null value we perform this step by seeing the nature of column and row where null value is present and then after all our final dataset is ready for performing analysis without null values and without unwanted cloumns."
      ],
      "metadata": {
        "id": "LbyXE7I1olp8"
      }
    },
    {
      "cell_type": "markdown",
      "source": [
        "## ***4. Data Vizualization, Storytelling & Experimenting with charts : Understand the relationships between variables***"
      ],
      "metadata": {
        "id": "GF8Ens_Soomf"
      }
    },
    {
      "cell_type": "markdown",
      "source": [
        "#### Chart - 1"
      ],
      "metadata": {
        "id": "0wOQAZs5pc--"
      }
    },
    {
      "cell_type": "code",
      "source": [
        "# Chart - 1 visualization code\n",
        "sns.set(rc={'figure.figsize':(30,8.27)})\n",
        "fig = sns.countplot(x=df['year'])\n",
        "plt.title(\"Number of Terrorist attack each year\", fontsize = 40)\n",
        "fig.set_xlabel('Year', fontsize = 25)\n",
        "fig.set_ylabel('Count', fontsize = 25)"
      ],
      "metadata": {
        "id": "7v_ESjsspbW7"
      },
      "execution_count": null,
      "outputs": []
    },
    {
      "cell_type": "markdown",
      "source": [
        "##### 1. Why did you pick the specific chart?"
      ],
      "metadata": {
        "id": "K5QZ13OEpz2H"
      }
    },
    {
      "cell_type": "markdown",
      "source": [
        "This is a count plot chart. I'll pick it because in this chart only needed to give the value of one axis either x or y-axis and next axis it'll automatically generate according to the count of data. "
      ],
      "metadata": {
        "id": "XESiWehPqBRc"
      }
    },
    {
      "cell_type": "markdown",
      "source": [
        "##### 2. What is/are the insight(s) found from the chart?"
      ],
      "metadata": {
        "id": "lQ7QKXXCp7Bj"
      }
    },
    {
      "cell_type": "markdown",
      "source": [
        "This is the chart of \"Number of Terrorist attack in each year\". In this chart we can see that in 2014 the number of attacks is more and in 1971 the number of attacks is very less and 2017 is in 5 position where number of attacks is more and we can see that after 2014 number of attacks will decreases yearly wise."
      ],
      "metadata": {
        "id": "C_j1G7yiqdRP"
      }
    },
    {
      "cell_type": "markdown",
      "source": [
        "##### 3. Will the gained insights help creating a positive business impact? \n",
        "Are there any insights that lead to negative growth? Justify with specific reason."
      ],
      "metadata": {
        "id": "448CDAPjqfQr"
      }
    },
    {
      "cell_type": "markdown",
      "source": [
        "Yes this insights help creating a positive business impact.\n",
        "No, there are no any insights that lead to negative growth."
      ],
      "metadata": {
        "id": "3cspy4FjqxJW"
      }
    },
    {
      "cell_type": "markdown",
      "source": [
        "#### Chart - 2"
      ],
      "metadata": {
        "id": "KSlN3yHqYklG"
      }
    },
    {
      "cell_type": "code",
      "source": [
        "# Chart - 2 visualization code\n",
        "sns.set(rc={'figure.figsize':(18,8.27)})\n",
        "yr = sns.countplot(x=df['weapon'])\n",
        "yr.set_xticklabels(yr.get_xticklabels(), rotation = 35)\n",
        "plt.title('Weapon',fontsize = 25)\n",
        "yr.set_xlabel('Weapon', fontsize = 20)\n",
        "yr.set_ylabel('Count', fontsize = 20);"
      ],
      "metadata": {
        "id": "R4YgtaqtYklH"
      },
      "execution_count": null,
      "outputs": []
    },
    {
      "cell_type": "markdown",
      "source": [
        "##### 1. Why did you pick the specific chart?"
      ],
      "metadata": {
        "id": "t6dVpIINYklI"
      }
    },
    {
      "cell_type": "markdown",
      "source": [
        "This is a count plot chart. I'll pick it because in this chart only needed to give the value of one axis either x or y-axis and next axis it'll automatically generate according to the count of data. "
      ],
      "metadata": {
        "id": "5aaW0BYyYklI"
      }
    },
    {
      "cell_type": "markdown",
      "source": [
        "##### 2. What is/are the insight(s) found from the chart?"
      ],
      "metadata": {
        "id": "ijmpgYnKYklI"
      }
    },
    {
      "cell_type": "markdown",
      "source": [
        "This is a chart of Weapons that which weapon is mostly used by terrorist for attack. In this chart we can see that explosives is mostly used by terrorist for attacks and in second number Firearms(rifles, shotguns and handguns) is mostly used by terrorist."
      ],
      "metadata": {
        "id": "PSx9atu2YklI"
      }
    },
    {
      "cell_type": "markdown",
      "source": [
        "##### 3. Will the gained insights help creating a positive business impact? \n",
        "Are there any insights that lead to negative growth? Justify with specific reason."
      ],
      "metadata": {
        "id": "-JiQyfWJYklI"
      }
    },
    {
      "cell_type": "markdown",
      "source": [
        "Yes, gained insights from this chart is helpful for creating a positive business impact.\n",
        "No, there are no any insights that lead to negative growth."
      ],
      "metadata": {
        "id": "BcBbebzrYklV"
      }
    },
    {
      "cell_type": "markdown",
      "source": [
        "#### Chart - 3"
      ],
      "metadata": {
        "id": "EM7whBJCYoAo"
      }
    },
    {
      "cell_type": "code",
      "source": [
        "# Chart - 3 visualization code\n",
        "terr = df.groupby(['country'],as_index=False).count()\n",
        "px.choropleth(terr,locations='country',locationmode='country names',\n",
        "                  color='year',hover_name='country',projection='orthographic',\n",
        "                  title='Total number of attacks (1970-2017)',labels={'Year':'Attacks'})"
      ],
      "metadata": {
        "id": "t6GMdE67YoAp"
      },
      "execution_count": null,
      "outputs": []
    },
    {
      "cell_type": "markdown",
      "source": [
        "##### 1. Why did you pick the specific chart?"
      ],
      "metadata": {
        "id": "fge-S5ZAYoAp"
      }
    },
    {
      "cell_type": "markdown",
      "source": [
        "This is a choropleth world chart in this chart we pass the two values and according to data it'll plot a globe. In one value we pass a country and in second value we pass a counts of year. With the help of this chart we see the all countries terrorist attack in one chart with their numbers."
      ],
      "metadata": {
        "id": "5dBItgRVYoAp"
      }
    },
    {
      "cell_type": "markdown",
      "source": [
        "##### 2. What is/are the insight(s) found from the chart?"
      ],
      "metadata": {
        "id": "85gYPyotYoAp"
      }
    },
    {
      "cell_type": "markdown",
      "source": [
        "In this chart we see that terrorist will attack in Iraq is 24.636k which is mostly affected country in terrorist attack and in second number Pakistan is the country where terrorist attack is 14.368k and India is in fourth position where terrorist attack is 11.96k. According to color we see that light color means counting of attacks is more and dark color means counting of attacks is less. "
      ],
      "metadata": {
        "id": "4jstXR6OYoAp"
      }
    },
    {
      "cell_type": "markdown",
      "source": [
        "##### 3. Will the gained insights help creating a positive business impact? \n",
        "Are there any insights that lead to negative growth? Justify with specific reason."
      ],
      "metadata": {
        "id": "RoGjAbkUYoAp"
      }
    },
    {
      "cell_type": "markdown",
      "source": [
        "Yes, gained insights from this chart is helpful for creating a positive business impact.\n",
        "No, there are no any insights that lead to negative growth."
      ],
      "metadata": {
        "id": "zfJ8IqMcYoAp"
      }
    },
    {
      "cell_type": "markdown",
      "source": [
        "#### Chart - 4"
      ],
      "metadata": {
        "id": "4Of9eVA-YrdM"
      }
    },
    {
      "cell_type": "code",
      "source": [
        "# Chart - 4 visualization code\n",
        "kill = df['kill'].sum()\n",
        "wound = df['wound'].sum()\n",
        "total = kill+wound\n",
        "\n",
        "kill_per = (kill/total)*100\n",
        "kill_per\n",
        "\n",
        "wound_per = (wound/total)*100\n",
        "wound_per\n",
        "\n",
        "per = ([kill_per, wound_per])\n",
        "plt.title('Death people vs wound people', fontsize = 20)\n",
        "plt.pie(per, labels=['Kill','Wound'], explode = [0.1,0], autopct='%1.2f%%', shadow = True, colors = ['red', 'cyan']);"
      ],
      "metadata": {
        "id": "irlUoxc8YrdO"
      },
      "execution_count": null,
      "outputs": []
    },
    {
      "cell_type": "markdown",
      "source": [
        "##### 1. Why did you pick the specific chart?"
      ],
      "metadata": {
        "id": "iky9q4vBYrdO"
      }
    },
    {
      "cell_type": "markdown",
      "source": [
        "This is a pie chart we pick this chart because it represents data visually as a fractional part of a whole, which can be an effective communication tool for the even uninformed audience."
      ],
      "metadata": {
        "id": "aJRCwT6DYrdO"
      }
    },
    {
      "cell_type": "markdown",
      "source": [
        "##### 2. What is/are the insight(s) found from the chart?"
      ],
      "metadata": {
        "id": "F6T5p64dYrdO"
      }
    },
    {
      "cell_type": "markdown",
      "source": [
        "In this we see that in between 1970 and 2017 the percentage of wound people is greater than the killed people approx 55% people were wound and approx 44% people were die."
      ],
      "metadata": {
        "id": "Xx8WAJvtYrdO"
      }
    },
    {
      "cell_type": "markdown",
      "source": [
        "##### 3. Will the gained insights help creating a positive business impact? \n",
        "Are there any insights that lead to negative growth? Justify with specific reason."
      ],
      "metadata": {
        "id": "y-Ehk30pYrdP"
      }
    },
    {
      "cell_type": "markdown",
      "source": [
        "Yes, gained insights from this chart is helpful for creating a positive business impact.\n",
        "No, there are no any insights that lead to negative growth."
      ],
      "metadata": {
        "id": "jLNxxz7MYrdP"
      }
    },
    {
      "cell_type": "markdown",
      "source": [
        "#### Chart - 5"
      ],
      "metadata": {
        "id": "bamQiAODYuh1"
      }
    },
    {
      "cell_type": "code",
      "source": [
        "# Chart - 5 visualization code\n",
        "px.scatter(df,df['wound'],df['kill'],hover_name='country',animation_frame='year',animation_group='country',color='attack_type',\n",
        "           range_color=[0,1],labels={'kill':'Deaths','woun':'Casualities'},\n",
        "           title='Number of casualities vs Killed people in each country for each year')"
      ],
      "metadata": {
        "id": "TIJwrbroYuh3"
      },
      "execution_count": null,
      "outputs": []
    },
    {
      "cell_type": "markdown",
      "source": [
        "##### 1. Why did you pick the specific chart?"
      ],
      "metadata": {
        "id": "QHF8YVU7Yuh3"
      }
    },
    {
      "cell_type": "markdown",
      "source": [
        "This is a scatter plot of plotly library in which each data point is represented as a marker point, whose location is given by the wound and death columns. With the help of this chart we see that year wise how many people were die and wound in which country with their attack_type while hovering on scatter points."
      ],
      "metadata": {
        "id": "dcxuIMRPYuh3"
      }
    },
    {
      "cell_type": "markdown",
      "source": [
        "##### 2. What is/are the insight(s) found from the chart?"
      ],
      "metadata": {
        "id": "GwzvFGzlYuh3"
      }
    },
    {
      "cell_type": "markdown",
      "source": [
        "While hovering on this chart we see that in 1970 switzerland is the country where death people is 47 and wound people is 0 by only one attack type i.e, bombing/explosion and in same year we see that US is the country where four times attack will occur by different attack_type i.e, Hostage Taking(kidnaping), Unarmed assault, Armed Assault. In other hand, in 2017 Afghanistan is country where wound people is 20 and death people is 50 by attack_type Armed assault."
      ],
      "metadata": {
        "id": "uyqkiB8YYuh3"
      }
    },
    {
      "cell_type": "markdown",
      "source": [
        "##### 3. Will the gained insights help creating a positive business impact? \n",
        "Are there any insights that lead to negative growth? Justify with specific reason."
      ],
      "metadata": {
        "id": "qYpmQ266Yuh3"
      }
    },
    {
      "cell_type": "markdown",
      "source": [
        "Yes, gained insights from this chart is helpful for creating a positive business impact.\n",
        "No, there are no any insights that lead to negative growth."
      ],
      "metadata": {
        "id": "_WtzZ_hCYuh4"
      }
    },
    {
      "cell_type": "markdown",
      "source": [
        "#### Chart - 6"
      ],
      "metadata": {
        "id": "OH-pJp9IphqM"
      }
    },
    {
      "cell_type": "code",
      "source": [
        "# Chart - 6 visualization code\n",
        "plt.title('Type of Target', fontsize = 25)\n",
        "sns.set(rc={'figure.figsize':(15,8.27)})\n",
        "sr = sns.countplot(x=df['target_type'])\n",
        "sr.set_xticklabels(sr.get_xticklabels(), rotation = 90)\n",
        "sr.set_xlabel('Type', fontsize = 20)\n",
        "sr.set_ylabel('Count', fontsize = 20);"
      ],
      "metadata": {
        "id": "kuRf4wtuphqN"
      },
      "execution_count": null,
      "outputs": []
    },
    {
      "cell_type": "markdown",
      "source": [
        "##### 1. Why did you pick the specific chart?"
      ],
      "metadata": {
        "id": "bbFf2-_FphqN"
      }
    },
    {
      "cell_type": "markdown",
      "source": [
        "This is a count plot chart. I'll pick it because in this chart only needed to give the value of one axis either x or y-axis and next axis it'll automatically generate according to the count of data. "
      ],
      "metadata": {
        "id": "loh7H2nzphqN"
      }
    },
    {
      "cell_type": "markdown",
      "source": [
        "##### 2. What is/are the insight(s) found from the chart?"
      ],
      "metadata": {
        "id": "_ouA3fa0phqN"
      }
    },
    {
      "cell_type": "markdown",
      "source": [
        "In this bar plot we see that terrorist mostly target the Private citizens and Property for attack and in second number the target of terrorist is military and very less target of terrorist is Abortion related."
      ],
      "metadata": {
        "id": "VECbqPI7phqN"
      }
    },
    {
      "cell_type": "markdown",
      "source": [
        "##### 3. Will the gained insights help creating a positive business impact? \n",
        "Are there any insights that lead to negative growth? Justify with specific reason."
      ],
      "metadata": {
        "id": "Seke61FWphqN"
      }
    },
    {
      "cell_type": "markdown",
      "source": [
        "Yes, gained insights from this chart is helpful for creating a positive business impact.\n",
        "No, there are no any insights that lead to negative growth."
      ],
      "metadata": {
        "id": "DW4_bGpfphqN"
      }
    },
    {
      "cell_type": "markdown",
      "source": [
        "#### Chart - 7"
      ],
      "metadata": {
        "id": "PIIx-8_IphqN"
      }
    },
    {
      "cell_type": "code",
      "source": [
        "# Chart - 7 visualization code\n",
        "plt.title('Number of operations by terrorist organisation', fontsize = 25)\n",
        "sns.barplot(y=df['gp_name'].value_counts()[1:12].index, x=df['gp_name'].value_counts()[1:12], data = df)\n",
        "plt.xlabel('Number of Operations',fontsize = 20)\n",
        "plt.ylabel('Terrorist Organisation',fontsize=20)"
      ],
      "metadata": {
        "id": "lqAIGUfyphqO"
      },
      "execution_count": null,
      "outputs": []
    },
    {
      "cell_type": "markdown",
      "source": [
        "##### 1. Why did you pick the specific chart?"
      ],
      "metadata": {
        "id": "t27r6nlMphqO"
      }
    },
    {
      "cell_type": "markdown",
      "source": [
        "This is a bar plot chart. I'll pick it because in this chart we pass the two values one in x and another one in y-axis and according to data it'll plot a bar chart which defines the relations between two data. "
      ],
      "metadata": {
        "id": "iv6ro40sphqO"
      }
    },
    {
      "cell_type": "markdown",
      "source": [
        "##### 2. What is/are the insight(s) found from the chart?"
      ],
      "metadata": {
        "id": "r2jJGEOYphqO"
      }
    },
    {
      "cell_type": "markdown",
      "source": [
        "This is a bar plot between Terrorist organization and number of operations with the help of this chart we see that which terrorist organization do how many number of operations for attack. We see that Taliban is the terrorist organization which do largest number of operations i.e, approx 75k and in second number Islamic state of Iraq and the Levant(ISIL) is the organiztion which do more operations for attack i.e, approx 55k and very less attack is done by Basque Fatherland and Freedom(ETA) organization i.e, approx 20k."
      ],
      "metadata": {
        "id": "Po6ZPi4hphqO"
      }
    },
    {
      "cell_type": "markdown",
      "source": [
        "##### 3. Will the gained insights help creating a positive business impact? \n",
        "Are there any insights that lead to negative growth? Justify with specific reason."
      ],
      "metadata": {
        "id": "b0JNsNcRphqO"
      }
    },
    {
      "cell_type": "markdown",
      "source": [
        "Yes, gained insights from this chart is helpful for creating a positive business impact.\n",
        "No, there are no any insights that lead to negative growth."
      ],
      "metadata": {
        "id": "xvSq8iUTphqO"
      }
    },
    {
      "cell_type": "markdown",
      "source": [
        "#### Chart - 8 - Correlation Heatmap"
      ],
      "metadata": {
        "id": "NC_X3p0fY2L0"
      }
    },
    {
      "cell_type": "code",
      "source": [
        "# Correlation Heatmap visualization code\n",
        "fig, ax = plt.subplots(figsize=(10,7)) \n",
        "sns.heatmap(df.corr(), annot = True, cmap = 'Blues')"
      ],
      "metadata": {
        "id": "xyC9zolEZNRQ"
      },
      "execution_count": null,
      "outputs": []
    },
    {
      "cell_type": "markdown",
      "source": [
        "##### 1. Why did you pick the specific chart?"
      ],
      "metadata": {
        "id": "UV0SzAkaZNRQ"
      }
    },
    {
      "cell_type": "markdown",
      "source": [
        "This is a corelation heatmap this chart shows the corelation between columns."
      ],
      "metadata": {
        "id": "DVPuT8LYZNRQ"
      }
    },
    {
      "cell_type": "markdown",
      "source": [
        "##### 2. What is/are the insight(s) found from the chart?"
      ],
      "metadata": {
        "id": "YPEH6qLeZNRQ"
      }
    },
    {
      "cell_type": "markdown",
      "source": [
        "If we see the correlation chart then there is a one diagonal of 1 i.e, there is no effect. If we see the first row then, if year is increased then month is increased by 0.014% and also latitude increased by 16% and day is increased by 1.8% and so on these types of relation between each columns we got by this chart."
      ],
      "metadata": {
        "id": "bfSqtnDqZNRR"
      }
    },
    {
      "cell_type": "markdown",
      "source": [
        "#### Chart - 9 - Pair Plot "
      ],
      "metadata": {
        "id": "q29F0dvdveiT"
      }
    },
    {
      "cell_type": "code",
      "source": [
        "df1 = df[['year','kill','wound','no_terrorist']]"
      ],
      "metadata": {
        "id": "DuXpjg_o-C-8"
      },
      "execution_count": null,
      "outputs": []
    },
    {
      "cell_type": "code",
      "source": [
        "# Pair Plot visualization code\n",
        "sns.pairplot(df1)"
      ],
      "metadata": {
        "id": "o58-TEIhveiU"
      },
      "execution_count": null,
      "outputs": []
    },
    {
      "cell_type": "markdown",
      "source": [
        "##### 1. Why did you pick the specific chart?"
      ],
      "metadata": {
        "id": "EXh0U9oCveiU"
      }
    },
    {
      "cell_type": "markdown",
      "source": [
        "We pick this chart because the Seaborn Pairplot allows us to plot pairwise relationships between variables within a dataset."
      ],
      "metadata": {
        "id": "eMmPjTByveiU"
      }
    },
    {
      "cell_type": "markdown",
      "source": [
        "##### 2. What is/are the insight(s) found from the chart?"
      ],
      "metadata": {
        "id": "22aHeOlLveiV"
      }
    },
    {
      "cell_type": "markdown",
      "source": [
        "With the help of this chart we see the relations between variables in visual form. We see that between 40 and 60 latitude more attacks will occur day wise and between 1977 to 1955 max attacks will occur and so on insights we found from this chart."
      ],
      "metadata": {
        "id": "uPQ8RGwHveiV"
      }
    },
    {
      "cell_type": "markdown",
      "source": [
        "## **5. Solution to Business Objective**"
      ],
      "metadata": {
        "id": "JcMwzZxoAimU"
      }
    },
    {
      "cell_type": "markdown",
      "source": [
        "#### What do you suggest the client to achieve Business Objective ? \n",
        "Explain Briefly."
      ],
      "metadata": {
        "id": "8G2x9gOozGDZ"
      }
    },
    {
      "cell_type": "markdown",
      "source": [
        "For analysis of this dataset we got more meaningful information for business objective like as Iraq is the country which is mostly affected by attacks and also it'll affect on iraq population. Also we see that explosives is mostly used for attacks and then in second number firearms is mostly used for attacks. We see that terrorist mostly focus five countries for attack which are Iraq, Pakistan, Afghanistan, India and Colombia because mostly attacks is occur in these countries between 1970 to 2017, India is in fourth number where 11960 times attacks will occur. In 2017 we see the effect of attacks mostly in South Sudan and Afghanistan country, in south sudan 53 die and 14 wound peoples and in afghanistan 50 die and 20 wound peoples. In 10 Sept,1994 Bangladesh is the country where 25k terrorist will attack which is the black day for Bangladesh. By our analysis we see that approx 94% attacks will increased from 1970 to 2017. There is a terrorist organization named 'Taliban' which will do more than 7400 operations for attacks and mostly uses explosives for attacks. Overall, we see that between 1970 to 2017 44% people were die and 56% people were wound."
      ],
      "metadata": {
        "id": "pASKb0qOza21"
      }
    },
    {
      "cell_type": "markdown",
      "source": [
        "# **Conclusion**"
      ],
      "metadata": {
        "id": "gCX9965dhzqZ"
      }
    },
    {
      "cell_type": "markdown",
      "source": [
        "In conclusion we see that 94% attacks will increased from 1970 to 2017 and 44% people were die and 56% people were wound in these attacks. The effect of this attack will mostly seen in iraq country. More and more Explosives is used by terrorist for attacks."
      ],
      "metadata": {
        "id": "Fjb1IsQkh3yE"
      }
    },
    {
      "cell_type": "markdown",
      "source": [
        "### ***Hurrah! You have successfully completed your EDA Capstone Project !!!***"
      ],
      "metadata": {
        "id": "gIfDvo9L0UH2"
      }
    }
  ]
}